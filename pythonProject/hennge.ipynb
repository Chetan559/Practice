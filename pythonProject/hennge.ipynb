{
 "cells": [
  {
   "cell_type": "code",
   "execution_count": 3,
   "id": "ae9ed656-ad7a-429a-8bb5-30dc5102451e",
   "metadata": {},
   "outputs": [
    {
     "name": "stdout",
     "output_type": "stream",
     "text": [
      "1620905802\n"
     ]
    }
   ],
   "source": [
    "import time\n",
    "import hmac\n",
    "import hashlib\n",
    "import base64\n",
    "import struct\n",
    "\n",
    "def generate_totp(email, time_step=30, digits=10):\n",
    "    secret = (email + \"HENNGECHALLENGE004\").encode('utf-8')\n",
    "    t = int(time.time()) // time_step\n",
    "    msg = struct.pack('>Q', t)\n",
    "    hmac_digest = hmac.new(secret, msg, hashlib.sha512).digest()\n",
    "    offset = hmac_digest[-1] & 0x0F\n",
    "    code = struct.unpack(\">I\", hmac_digest[offset:offset+4])[0] & 0x7FFFFFFF\n",
    "    return str(code % (10 ** digits)).zfill(digits)\n",
    "\n",
    "# Example usage:\n",
    "email = \"cschetan559@gmail.com\"\n",
    "print(generate_totp(email))\n"
   ]
  },
  {
   "cell_type": "code",
   "execution_count": 2,
   "id": "3d0aad34-6090-4544-9a72-5cf618e55788",
   "metadata": {},
   "outputs": [
    {
     "name": "stdout",
     "output_type": "stream",
     "text": [
      "Y3NjaGV0YW41NTlAZ21haWwuY29tOjA2NjE1NjgzMDE=\n"
     ]
    }
   ],
   "source": [
    "import base64\n",
    "\n",
    "email = \"cschetan559@gmail.com\"\n",
    "password = generate_totp(email)  \n",
    "auth_str = f\"{email}:{password}\"\n",
    "auth_bytes = auth_str.encode('utf-8')\n",
    "auth_b64 = base64.b64encode(auth_bytes).decode('utf-8')\n",
    "print(auth_b64)\n"
   ]
  },
  {
   "cell_type": "code",
   "execution_count": null,
   "id": "8d86d3de-330d-404e-8a91-4cbb5fe2f6c8",
   "metadata": {},
   "outputs": [],
   "source": []
  }
 ],
 "metadata": {
  "kernelspec": {
   "display_name": "Python 3 (ipykernel)",
   "language": "python",
   "name": "python3"
  },
  "language_info": {
   "codemirror_mode": {
    "name": "ipython",
    "version": 3
   },
   "file_extension": ".py",
   "mimetype": "text/x-python",
   "name": "python",
   "nbconvert_exporter": "python",
   "pygments_lexer": "ipython3",
   "version": "3.12.4"
  }
 },
 "nbformat": 4,
 "nbformat_minor": 5
}
